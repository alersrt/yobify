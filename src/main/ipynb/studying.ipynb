{
 "cells": [
  {
   "cell_type": "markdown",
   "source": [
    "# Object detection\n",
    "\n",
    "All code was taken from [here][1]. There also good [article][2] about it.\n",
    "\n",
    "[1]: https://github.com/shubham0204/Multiclass_Object_Classification\n",
    "[2]: https://medium.com/predict/object-classification-from-scratch-using-tensorflow-and-keras-964e42e898b2"
   ],
   "metadata": {
    "collapsed": false
   }
  },
  {
   "cell_type": "markdown",
   "source": [
    "### The import section"
   ],
   "metadata": {
    "collapsed": false
   }
  },
  {
   "cell_type": "code",
   "execution_count": null,
   "outputs": [],
   "source": [
    "import numpy as np\n",
    "\n",
    "from Model import Classifier\n",
    "\n",
    "%matplotlib inline"
   ],
   "metadata": {
    "collapsed": false,
    "pycharm": {
     "name": "#%% code\n",
     "is_executing": false
    }
   }
  },
  {
   "cell_type": "markdown",
   "source": [
    "### The model training"
   ],
   "metadata": {
    "collapsed": false,
    "pycharm": {
     "name": "#%% md\n"
    }
   }
  },
  {
   "cell_type": "code",
   "execution_count": null,
   "outputs": [],
   "source": [
    "data_dimension = 32\n",
    "\n",
    "X = np.load('../resources/processed_data/x.npy'.format(data_dimension))\n",
    "Y = np.load('../resources/processed_data/y.npy'.format(data_dimension))\n",
    "test_X = np.load('../resources/processed_data/test_x.npy'.format(data_dimension))\n",
    "test_Y = np.load('../resources/processed_data/test_y.npy'.format(data_dimension))\n",
    "\n",
    "print(X.shape)\n",
    "print(Y.shape)\n",
    "print(test_X.shape)\n",
    "print(test_Y.shape)\n",
    "\n",
    "X = X.reshape((X.shape[0], data_dimension**2)).astype(np.float32)\n",
    "test_X = test_X.reshape((test_X.shape[0], data_dimension**2)).astype(np.float32)\n",
    "\n",
    "classifier = Classifier(number_of_classes=8)\n",
    "classifier.load_model( '../resources/model_data/model.h5')\n",
    "\n",
    "parameters = {\n",
    "    'batch_size': 250,\n",
    "    'epochs': 10,\n",
    "    'callbacks': None,\n",
    "    'val_data': None\n",
    "}\n",
    "\n",
    "classifier.fit(X, Y, hyperparameters=parameters)\n",
    "classifier.save_model('../resources/model_data/model.h5')\n",
    "\n",
    "loss, accuracy = classifier.evaluate(test_X, test_Y)\n",
    "print(\"Loss of {}\".format(loss), \"Accuracy of {} %\".format(accuracy * 100))"
   ],
   "metadata": {
    "collapsed": false,
    "pycharm": {
     "name": "#%% code\n",
     "is_executing": false
    }
   }
  },
  {
   "cell_type": "markdown",
   "source": [
    "### Getting of the result"
   ],
   "metadata": {
    "collapsed": false
   }
  },
  {
   "cell_type": "code",
   "execution_count": null,
   "outputs": [],
   "source": [
    "sample_X = classifier.prepare_images_from_dir('../resources/random_images/')\n",
    "sample_X = sample_X.reshape((sample_X.shape[0], data_dimension**2)).astype(np.float32)\n",
    "print(classifier.predict(sample_X).argmax(1))"
   ],
   "metadata": {
    "collapsed": false,
    "pycharm": {
     "name": "#%% code\n",
     "is_executing": false
    }
   }
  }
 ],
 "metadata": {
  "kernelspec": {
   "display_name": "Python 3",
   "language": "python",
   "name": "python3"
  },
  "language_info": {
   "codemirror_mode": {
    "name": "ipython",
    "version": 2
   },
   "file_extension": ".py",
   "mimetype": "text/x-python",
   "name": "python",
   "nbconvert_exporter": "python",
   "pygments_lexer": "ipython2",
   "version": "2.7.6"
  },
  "pycharm": {
   "stem_cell": {
    "cell_type": "raw",
    "source": [],
    "metadata": {
     "collapsed": false
    }
   }
  }
 },
 "nbformat": 4,
 "nbformat_minor": 0
}